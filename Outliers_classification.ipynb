{
 "cells": [
  {
   "cell_type": "code",
   "execution_count": 1,
   "metadata": {},
   "outputs": [
    {
     "data": {
      "text/html": [
       "        <script type=\"text/javascript\">\n",
       "        window.PlotlyConfig = {MathJaxConfig: 'local'};\n",
       "        if (window.MathJax) {MathJax.Hub.Config({SVG: {font: \"STIX-Web\"}});}\n",
       "        if (typeof require !== 'undefined') {\n",
       "        require.undef(\"plotly\");\n",
       "        requirejs.config({\n",
       "            paths: {\n",
       "                'plotly': ['https://cdn.plot.ly/plotly-latest.min']\n",
       "            }\n",
       "        });\n",
       "        require(['plotly'], function(Plotly) {\n",
       "            window._Plotly = Plotly;\n",
       "        });\n",
       "        }\n",
       "        </script>\n",
       "        "
      ]
     },
     "metadata": {},
     "output_type": "display_data"
    }
   ],
   "source": [
    "# Load libraries\n",
    "import numpy as np\n",
    "import pandas as pd\n",
    "import plotly.express as px\n",
    "from plotly.offline import download_plotlyjs, init_notebook_mode, plot, iplot\n",
    "#Jupyter setup\n",
    "init_notebook_mode(connected=True)\n",
    "from plotnine import *"
   ]
  },
  {
   "cell_type": "code",
   "execution_count": 2,
   "metadata": {},
   "outputs": [],
   "source": [
    "#Read Lidar's file\n",
    "static_test=pd.read_csv(r'lidar_data\\test_stat.csv', usecols=range(4))\n",
    "#Keep positive distance\n",
    "static_test = static_test[static_test.Distance > 0]"
   ]
  },
  {
   "cell_type": "code",
   "execution_count": 3,
   "metadata": {},
   "outputs": [],
   "source": [
    "# Grouped data\n",
    "grp_static=static_test.groupby(['Time','Segment'])"
   ]
  },
  {
   "cell_type": "code",
   "execution_count": 4,
   "metadata": {},
   "outputs": [],
   "source": [
    "# Aggregate with maximum distance\n",
    "grp_static=grp_static.apply(lambda x: x.loc[x.Distance.idxmax()])"
   ]
  },
  {
   "cell_type": "code",
   "execution_count": 5,
   "metadata": {},
   "outputs": [],
   "source": [
    "#Drop second level\n",
    "grp_static.index = grp_static.index.droplevel(-2)"
   ]
  },
  {
   "cell_type": "code",
   "execution_count": 11,
   "metadata": {},
   "outputs": [],
   "source": [
    "# Change type of segment column  \n",
    "grp_static.Segment=grp_static.Segment.astype('int')\n",
    "grp_static.Segment=grp_static.Segment.astype('category')\n",
    "grp_static=grp_static.rename(columns={\"Segment\": \"segment\"})"
   ]
  },
  {
   "cell_type": "code",
   "execution_count": 12,
   "metadata": {},
   "outputs": [],
   "source": [
    "#Read real Observations from manual annotations\n",
    "observation=pd.read_csv(r'Groundtruth\\obser_stat.csv')"
   ]
  },
  {
   "cell_type": "code",
   "execution_count": 13,
   "metadata": {},
   "outputs": [],
   "source": [
    "# Convert to timeseries data\n",
    "p_dist=pd.pivot_table(grp_static, values=['Amplitude','Distance'], index='Time', columns='Segment')"
   ]
  },
  {
   "cell_type": "code",
   "execution_count": 14,
   "metadata": {},
   "outputs": [
    {
     "data": {
      "text/html": [
       "<div>\n",
       "<style scoped>\n",
       "    .dataframe tbody tr th:only-of-type {\n",
       "        vertical-align: middle;\n",
       "    }\n",
       "\n",
       "    .dataframe tbody tr th {\n",
       "        vertical-align: top;\n",
       "    }\n",
       "\n",
       "    .dataframe thead tr th {\n",
       "        text-align: left;\n",
       "    }\n",
       "\n",
       "    .dataframe thead tr:last-of-type th {\n",
       "        text-align: right;\n",
       "    }\n",
       "</style>\n",
       "<table border=\"1\" class=\"dataframe\">\n",
       "  <thead>\n",
       "    <tr>\n",
       "      <th></th>\n",
       "      <th colspan=\"10\" halign=\"left\">Amplitude</th>\n",
       "      <th>...</th>\n",
       "      <th colspan=\"10\" halign=\"left\">Distance</th>\n",
       "    </tr>\n",
       "    <tr>\n",
       "      <th>Segment</th>\n",
       "      <th>0</th>\n",
       "      <th>1</th>\n",
       "      <th>2</th>\n",
       "      <th>3</th>\n",
       "      <th>4</th>\n",
       "      <th>5</th>\n",
       "      <th>6</th>\n",
       "      <th>7</th>\n",
       "      <th>8</th>\n",
       "      <th>9</th>\n",
       "      <th>...</th>\n",
       "      <th>6</th>\n",
       "      <th>7</th>\n",
       "      <th>8</th>\n",
       "      <th>9</th>\n",
       "      <th>10</th>\n",
       "      <th>11</th>\n",
       "      <th>12</th>\n",
       "      <th>13</th>\n",
       "      <th>14</th>\n",
       "      <th>15</th>\n",
       "    </tr>\n",
       "    <tr>\n",
       "      <th>Time</th>\n",
       "      <th></th>\n",
       "      <th></th>\n",
       "      <th></th>\n",
       "      <th></th>\n",
       "      <th></th>\n",
       "      <th></th>\n",
       "      <th></th>\n",
       "      <th></th>\n",
       "      <th></th>\n",
       "      <th></th>\n",
       "      <th></th>\n",
       "      <th></th>\n",
       "      <th></th>\n",
       "      <th></th>\n",
       "      <th></th>\n",
       "      <th></th>\n",
       "      <th></th>\n",
       "      <th></th>\n",
       "      <th></th>\n",
       "      <th></th>\n",
       "      <th></th>\n",
       "    </tr>\n",
       "  </thead>\n",
       "  <tbody>\n",
       "    <tr>\n",
       "      <td>120633.0</td>\n",
       "      <td>116.25</td>\n",
       "      <td>90.75</td>\n",
       "      <td>246.48</td>\n",
       "      <td>83.00</td>\n",
       "      <td>269.28</td>\n",
       "      <td>164.00</td>\n",
       "      <td>53.75</td>\n",
       "      <td>3.75</td>\n",
       "      <td>26.34</td>\n",
       "      <td>14.41</td>\n",
       "      <td>...</td>\n",
       "      <td>5.55</td>\n",
       "      <td>8.35</td>\n",
       "      <td>9.36</td>\n",
       "      <td>12.33</td>\n",
       "      <td>12.31</td>\n",
       "      <td>12.29</td>\n",
       "      <td>12.28</td>\n",
       "      <td>9.07</td>\n",
       "      <td>5.49</td>\n",
       "      <td>4.04</td>\n",
       "    </tr>\n",
       "    <tr>\n",
       "      <td>120953.0</td>\n",
       "      <td>116.25</td>\n",
       "      <td>90.50</td>\n",
       "      <td>240.70</td>\n",
       "      <td>82.75</td>\n",
       "      <td>269.43</td>\n",
       "      <td>166.63</td>\n",
       "      <td>53.88</td>\n",
       "      <td>7.50</td>\n",
       "      <td>28.57</td>\n",
       "      <td>14.45</td>\n",
       "      <td>...</td>\n",
       "      <td>5.25</td>\n",
       "      <td>8.05</td>\n",
       "      <td>9.36</td>\n",
       "      <td>12.34</td>\n",
       "      <td>12.31</td>\n",
       "      <td>12.29</td>\n",
       "      <td>12.28</td>\n",
       "      <td>9.37</td>\n",
       "      <td>5.49</td>\n",
       "      <td>4.04</td>\n",
       "    </tr>\n",
       "    <tr>\n",
       "      <td>121273.0</td>\n",
       "      <td>116.13</td>\n",
       "      <td>90.63</td>\n",
       "      <td>245.49</td>\n",
       "      <td>82.88</td>\n",
       "      <td>269.25</td>\n",
       "      <td>167.88</td>\n",
       "      <td>52.50</td>\n",
       "      <td>3.75</td>\n",
       "      <td>27.06</td>\n",
       "      <td>14.40</td>\n",
       "      <td>...</td>\n",
       "      <td>5.55</td>\n",
       "      <td>8.35</td>\n",
       "      <td>9.35</td>\n",
       "      <td>12.34</td>\n",
       "      <td>12.32</td>\n",
       "      <td>12.29</td>\n",
       "      <td>12.27</td>\n",
       "      <td>9.37</td>\n",
       "      <td>5.49</td>\n",
       "      <td>4.04</td>\n",
       "    </tr>\n",
       "    <tr>\n",
       "      <td>121592.0</td>\n",
       "      <td>116.38</td>\n",
       "      <td>90.88</td>\n",
       "      <td>248.57</td>\n",
       "      <td>83.13</td>\n",
       "      <td>269.25</td>\n",
       "      <td>167.88</td>\n",
       "      <td>54.00</td>\n",
       "      <td>3.75</td>\n",
       "      <td>27.07</td>\n",
       "      <td>14.51</td>\n",
       "      <td>...</td>\n",
       "      <td>5.55</td>\n",
       "      <td>8.35</td>\n",
       "      <td>9.36</td>\n",
       "      <td>12.34</td>\n",
       "      <td>12.32</td>\n",
       "      <td>12.29</td>\n",
       "      <td>12.27</td>\n",
       "      <td>9.07</td>\n",
       "      <td>5.49</td>\n",
       "      <td>4.04</td>\n",
       "    </tr>\n",
       "    <tr>\n",
       "      <td>121912.0</td>\n",
       "      <td>116.25</td>\n",
       "      <td>90.75</td>\n",
       "      <td>247.86</td>\n",
       "      <td>83.13</td>\n",
       "      <td>269.32</td>\n",
       "      <td>165.25</td>\n",
       "      <td>53.25</td>\n",
       "      <td>3.75</td>\n",
       "      <td>26.02</td>\n",
       "      <td>14.35</td>\n",
       "      <td>...</td>\n",
       "      <td>5.55</td>\n",
       "      <td>8.35</td>\n",
       "      <td>9.36</td>\n",
       "      <td>12.34</td>\n",
       "      <td>12.31</td>\n",
       "      <td>12.29</td>\n",
       "      <td>12.27</td>\n",
       "      <td>9.07</td>\n",
       "      <td>5.49</td>\n",
       "      <td>4.04</td>\n",
       "    </tr>\n",
       "  </tbody>\n",
       "</table>\n",
       "<p>5 rows × 32 columns</p>\n",
       "</div>"
      ],
      "text/plain": [
       "         Amplitude                                                            \\\n",
       "Segment         0      1       2      3       4       5      6     7      8    \n",
       "Time                                                                           \n",
       "120633.0    116.25  90.75  246.48  83.00  269.28  164.00  53.75  3.75  26.34   \n",
       "120953.0    116.25  90.50  240.70  82.75  269.43  166.63  53.88  7.50  28.57   \n",
       "121273.0    116.13  90.63  245.49  82.88  269.25  167.88  52.50  3.75  27.06   \n",
       "121592.0    116.38  90.88  248.57  83.13  269.25  167.88  54.00  3.75  27.07   \n",
       "121912.0    116.25  90.75  247.86  83.13  269.32  165.25  53.25  3.75  26.02   \n",
       "\n",
       "                 ... Distance                                                \\\n",
       "Segment      9   ...       6     7     8      9      10     11     12    13   \n",
       "Time             ...                                                          \n",
       "120633.0  14.41  ...     5.55  8.35  9.36  12.33  12.31  12.29  12.28  9.07   \n",
       "120953.0  14.45  ...     5.25  8.05  9.36  12.34  12.31  12.29  12.28  9.37   \n",
       "121273.0  14.40  ...     5.55  8.35  9.35  12.34  12.32  12.29  12.27  9.37   \n",
       "121592.0  14.51  ...     5.55  8.35  9.36  12.34  12.32  12.29  12.27  9.07   \n",
       "121912.0  14.35  ...     5.55  8.35  9.36  12.34  12.31  12.29  12.27  9.07   \n",
       "\n",
       "                      \n",
       "Segment     14    15  \n",
       "Time                  \n",
       "120633.0  5.49  4.04  \n",
       "120953.0  5.49  4.04  \n",
       "121273.0  5.49  4.04  \n",
       "121592.0  5.49  4.04  \n",
       "121912.0  5.49  4.04  \n",
       "\n",
       "[5 rows x 32 columns]"
      ]
     },
     "execution_count": 14,
     "metadata": {},
     "output_type": "execute_result"
    }
   ],
   "source": [
    "p_dist.head()"
   ]
  },
  {
   "cell_type": "code",
   "execution_count": 16,
   "metadata": {},
   "outputs": [
    {
     "name": "stderr",
     "output_type": "stream",
     "text": [
      "C:\\Users\\Mohammed\\Anaconda3\\lib\\site-packages\\pandas\\core\\reshape\\merge.py:617: UserWarning:\n",
      "\n",
      "merging between different levels can give an unintended result (2 levels on the left, 1 on the right)\n",
      "\n"
     ]
    }
   ],
   "source": [
    "#Merge two dataframe real observation file and lidar file\n",
    "p_dist=p_dist.merge(observation, on='Time', how='inner')"
   ]
  },
  {
   "cell_type": "code",
   "execution_count": 17,
   "metadata": {},
   "outputs": [],
   "source": [
    "p_dist=p_dist.set_axis(['Time', 'Ampl_0', 'Ampl_1', 'Ampl_2', 'Ampl_3', 'Ampl_4','Ampl_5', 'Ampl_6', 'Ampl_7', 'Ampl_8', 'Ampl_9', 'Ampl_10', 'Ampl_11', 'Ampl_12', 'Ampl_13', 'Ampl_14', 'Ampl_15', 'Dist_0', 'Dist_1', 'Dist_2', 'Dist_3', 'Dist_4', 'Dist_5', 'Dist_6', 'Dist_7', 'Dist_8', 'Dist_9', 'Dist_10', 'Dist_11', 'Dist_12', 'Dist_13', 'Dist_14', 'Dist_15','Heure','Observation', 'Observation_d'], axis=1, inplace=False)"
   ]
  },
  {
   "cell_type": "markdown",
   "metadata": {},
   "source": [
    "this next section, we will make a outliers classification with quartiles"
   ]
  },
  {
   "cell_type": "code",
   "execution_count": 18,
   "metadata": {},
   "outputs": [],
   "source": [
    "p_dist[\"Out_a0\"] = np.nan\n",
    "p_dist.sort_values('Ampl_0')\n",
    "Q1_a0 = p_dist.Ampl_0.quantile(0.25)\n",
    "Q3_a0 = p_dist.Ampl_0.quantile(0.75)\n",
    "IQR_a0 = Q3_a0 - Q1_a0\n",
    "Min_a0= Q1_a0-(1.5*IQR_a0)\n",
    "Max_a0= Q3_a0+(1.5*IQR_a0)\n",
    "#Conditions\n",
    "for index, row in p_dist.iterrows():\n",
    "        if    p_dist.loc[index, 'Ampl_0']>Max_a0 or  p_dist.loc[index, 'Ampl_0']<Min_a0 :\n",
    "              p_dist.loc[index, 'Out_a0']=1\n",
    "        else:  p_dist.loc[index, 'Out_a0']=0"
   ]
  },
  {
   "cell_type": "code",
   "execution_count": 19,
   "metadata": {},
   "outputs": [],
   "source": [
    "p_dist[\"Out_a1\"] = np.nan\n",
    "p_dist.sort_values('Ampl_1')\n",
    "Q1_a1 = p_dist.Ampl_1.quantile(0.25)\n",
    "Q3_a1 = p_dist.Ampl_1.quantile(0.75)\n",
    "IQR_a1 = Q3_a1 - Q1_a1\n",
    "Min_a1= Q1_a1-(1.5*IQR_a1)\n",
    "Max_a1= Q3_a1+(1.5*IQR_a1)\n",
    "#Conditions\n",
    "for index, row in p_dist.iterrows():\n",
    "        if    p_dist.loc[index, 'Ampl_1']>Max_a1 or  p_dist.loc[index, 'Ampl_1']<Min_a1 :\n",
    "              p_dist.loc[index, 'Out_a1']=1\n",
    "        else:  p_dist.loc[index, 'Out_a1']=0"
   ]
  },
  {
   "cell_type": "code",
   "execution_count": 20,
   "metadata": {},
   "outputs": [],
   "source": [
    "p_dist[\"Out_a2\"] = np.nan\n",
    "p_dist.sort_values('Ampl_2')\n",
    "Q1_a2 = p_dist.Ampl_2.quantile(0.25)\n",
    "Q3_a2 = p_dist.Ampl_2.quantile(0.75)\n",
    "IQR_a2 = Q3_a2 - Q1_a2\n",
    "Min_a2= Q1_a2-(1.5*IQR_a2)\n",
    "Max_a2= Q3_a2+(1.5*IQR_a2)\n",
    "#Conditions\n",
    "for index, row in p_dist.iterrows():\n",
    "        if    p_dist.loc[index, 'Ampl_2']>Max_a2 or  p_dist.loc[index, 'Ampl_2']<Min_a2 :\n",
    "              p_dist.loc[index, 'Out_a2']=1\n",
    "        else:  p_dist.loc[index, 'Out_a2']=0\n"
   ]
  },
  {
   "cell_type": "code",
   "execution_count": 21,
   "metadata": {},
   "outputs": [],
   "source": [
    "p_dist[\"Out_a3\"] = np.nan\n",
    "p_dist.sort_values('Ampl_3')\n",
    "Q1_a3 = p_dist.Ampl_3.quantile(0.25)\n",
    "Q3_a3 = p_dist.Ampl_3.quantile(0.75)\n",
    "IQR_a3 = Q3_a3 - Q1_a3\n",
    "Min_a3= Q1_a3-(1.5*IQR_a3)\n",
    "Max_a3= Q3_a3+(1.5*IQR_a3)\n",
    "#Conditions\n",
    "for index, row in p_dist.iterrows():\n",
    "        if    p_dist.loc[index, 'Ampl_3']>Max_a3 or  p_dist.loc[index, 'Ampl_3']<Min_a3 :\n",
    "              p_dist.loc[index, 'Out_a3']=1\n",
    "        else:  p_dist.loc[index, 'Out_a3']=0\n"
   ]
  },
  {
   "cell_type": "code",
   "execution_count": 22,
   "metadata": {},
   "outputs": [],
   "source": [
    "p_dist[\"Out_a4\"] = np.nan\n",
    "p_dist.sort_values('Ampl_4')\n",
    "Q1_a4 = p_dist.Ampl_4.quantile(0.25)\n",
    "Q3_a4 = p_dist.Ampl_4.quantile(0.75)\n",
    "IQR_a4 = Q3_a4 - Q1_a4\n",
    "Min_a4= Q1_a4-(1.5*IQR_a4)\n",
    "Max_a4= Q3_a4+(1.5*IQR_a4)\n",
    "#Conditions\n",
    "for index, row in p_dist.iterrows():\n",
    "        if    p_dist.loc[index, 'Ampl_4']>Max_a4 or  p_dist.loc[index, 'Ampl_4']<Min_a4 :\n",
    "              p_dist.loc[index, 'Out_a4']=1\n",
    "        else:  p_dist.loc[index, 'Out_a4']=0\n"
   ]
  },
  {
   "cell_type": "code",
   "execution_count": 23,
   "metadata": {},
   "outputs": [],
   "source": [
    "p_dist[\"Out_a5\"] = np.nan\n",
    "p_dist.sort_values('Ampl_5')\n",
    "Q1_a5 = p_dist.Ampl_5.quantile(0.25)\n",
    "Q3_a5 = p_dist.Ampl_5.quantile(0.75)\n",
    "IQR_a5 = Q3_a5 - Q1_a5\n",
    "Min_a5= Q1_a5-(1.5*IQR_a5)\n",
    "Max_a5= Q3_a5+(1.5*IQR_a5)\n",
    "#Conditions\n",
    "for index, row in p_dist.iterrows():\n",
    "        if    p_dist.loc[index, 'Ampl_5']>Max_a5 or  p_dist.loc[index, 'Ampl_5']<Min_a5 :\n",
    "              p_dist.loc[index, 'Out_a5']=1\n",
    "        else:  p_dist.loc[index, 'Out_a5']=0\n"
   ]
  },
  {
   "cell_type": "code",
   "execution_count": 24,
   "metadata": {},
   "outputs": [],
   "source": [
    "p_dist[\"Out_a6\"] = np.nan\n",
    "p_dist.sort_values('Ampl_6')\n",
    "Q1_a6 = p_dist.Ampl_6.quantile(0.25)\n",
    "Q3_a6 = p_dist.Ampl_6.quantile(0.75)\n",
    "IQR_a6 = Q3_a6 - Q1_a6\n",
    "Min_a6= Q1_a6-(1.5*IQR_a6)\n",
    "Max_a6= Q3_a6+(1.5*IQR_a6)\n",
    "#Conditions\n",
    "for index, row in p_dist.iterrows():\n",
    "        if    p_dist.loc[index, 'Ampl_6']>Max_a6 or  p_dist.loc[index, 'Ampl_6']<Min_a6 :\n",
    "              p_dist.loc[index, 'Out_a6']=1\n",
    "        else:  p_dist.loc[index, 'Out_a6']=0\n"
   ]
  },
  {
   "cell_type": "code",
   "execution_count": 25,
   "metadata": {},
   "outputs": [],
   "source": [
    "p_dist[\"Out_a7\"] = np.nan\n",
    "p_dist.sort_values('Ampl_7')\n",
    "Q1_a7 = p_dist.Ampl_7.quantile(0.25)\n",
    "Q3_a7 = p_dist.Ampl_7.quantile(0.75)\n",
    "IQR_a7 = Q3_a7 - Q1_a7\n",
    "Min_a7= Q1_a7-(1.5*IQR_a7)\n",
    "Max_a7= Q3_a7+(1.5*IQR_a7)\n",
    "#Conditions\n",
    "for index, row in p_dist.iterrows():\n",
    "        if    p_dist.loc[index, 'Ampl_7']>Max_a7 or  p_dist.loc[index, 'Ampl_7']<Min_a7 :\n",
    "              p_dist.loc[index, 'Out_a7']=1\n",
    "        else:  p_dist.loc[index, 'Out_a7']=0\n"
   ]
  },
  {
   "cell_type": "code",
   "execution_count": 26,
   "metadata": {},
   "outputs": [],
   "source": [
    "p_dist[\"Out_a8\"] = np.nan\n",
    "p_dist.sort_values('Ampl_8')\n",
    "Q1_a8 = p_dist.Ampl_8.quantile(0.25)\n",
    "Q3_a8 = p_dist.Ampl_8.quantile(0.75)\n",
    "IQR_a8 = Q3_a8 - Q1_a8\n",
    "Min_a8= Q1_a8-(1.5*IQR_a8)\n",
    "Max_a8= Q3_a8+(1.5*IQR_a8)\n",
    "#Conditions\n",
    "for index, row in p_dist.iterrows():\n",
    "        if    p_dist.loc[index, 'Ampl_8']>Max_a8 or  p_dist.loc[index, 'Ampl_8']<Min_a8 :\n",
    "              p_dist.loc[index, 'Out_a8']=1\n",
    "        else:  p_dist.loc[index, 'Out_a8']=0\n"
   ]
  },
  {
   "cell_type": "code",
   "execution_count": 27,
   "metadata": {},
   "outputs": [],
   "source": [
    "p_dist[\"Out_a9\"] = np.nan\n",
    "p_dist.sort_values('Ampl_9')\n",
    "Q1_a9 = p_dist.Ampl_9.quantile(0.25)\n",
    "Q3_a9 = p_dist.Ampl_9.quantile(0.75)\n",
    "IQR_a9 = Q3_a9 - Q1_a9\n",
    "Min_a9= Q1_a9-(1.5*IQR_a9)\n",
    "Max_a9= Q3_a9+(1.5*IQR_a9)\n",
    "#Conditions\n",
    "for index, row in p_dist.iterrows():\n",
    "        if    p_dist.loc[index, 'Ampl_9']>Max_a9 or  p_dist.loc[index, 'Ampl_9']<Min_a9 :\n",
    "              p_dist.loc[index, 'Out_a9']=1\n",
    "        else:  p_dist.loc[index, 'Out_a9']=0\n"
   ]
  },
  {
   "cell_type": "code",
   "execution_count": 28,
   "metadata": {},
   "outputs": [],
   "source": [
    "p_dist[\"Out_Ampl_10\"] = np.nan\n",
    "p_dist.sort_values('Ampl_10')\n",
    "Q1_Ampl_10 = p_dist.Ampl_10.quantile(0.25)\n",
    "Q3_Ampl_10 = p_dist.Ampl_10.quantile(0.75)\n",
    "IQR_Ampl_10 = Q3_Ampl_10 - Q1_Ampl_10\n",
    "Min_Ampl_10= Q1_Ampl_10-(1.5*IQR_Ampl_10)\n",
    "Max_Ampl_10= Q3_Ampl_10+(1.5*IQR_Ampl_10)\n",
    "#Conditions\n",
    "for index, row in p_dist.iterrows():\n",
    "        if    p_dist.loc[index, 'Ampl_10']>Max_Ampl_10 or  p_dist.loc[index, 'Ampl_10']<Min_Ampl_10 :\n",
    "              p_dist.loc[index, 'Out_Ampl_10']=1\n",
    "        else:  p_dist.loc[index, 'Out_Ampl_10']=0\n"
   ]
  },
  {
   "cell_type": "code",
   "execution_count": 29,
   "metadata": {},
   "outputs": [],
   "source": [
    "p_dist[\"Out_Ampl_11\"] = np.nan\n",
    "p_dist.sort_values('Ampl_11')\n",
    "Q1_Ampl_11 = p_dist.Ampl_11.quantile(0.25)\n",
    "Q3_Ampl_11 = p_dist.Ampl_11.quantile(0.75)\n",
    "IQR_Ampl_11 = Q3_Ampl_11 - Q1_Ampl_11\n",
    "Min_Ampl_11= Q1_Ampl_11-(1.5*IQR_Ampl_11)\n",
    "Max_Ampl_11= Q3_Ampl_11+(1.5*IQR_Ampl_11)\n",
    "#Conditions\n",
    "for index, row in p_dist.iterrows():\n",
    "        if    p_dist.loc[index, 'Ampl_11']>Max_Ampl_11 or  p_dist.loc[index, 'Ampl_11']<Min_Ampl_11 :\n",
    "              p_dist.loc[index, 'Out_Ampl_11']=1\n",
    "        else:  p_dist.loc[index, 'Out_Ampl_11']=0\n"
   ]
  },
  {
   "cell_type": "code",
   "execution_count": 30,
   "metadata": {},
   "outputs": [],
   "source": [
    "p_dist[\"Out_Ampl_12\"] = np.nan\n",
    "p_dist.sort_values('Ampl_12')\n",
    "Q1_Ampl_12 = p_dist.Ampl_12.quantile(0.25)\n",
    "Q3_Ampl_12 = p_dist.Ampl_12.quantile(0.75)\n",
    "IQR_Ampl_12 = Q3_Ampl_12 - Q1_Ampl_12\n",
    "Min_Ampl_12= Q1_Ampl_12-(1.5*IQR_Ampl_12)\n",
    "Max_Ampl_12= Q3_Ampl_12+(1.5*IQR_Ampl_12)\n",
    "#Conditions\n",
    "for index, row in p_dist.iterrows():\n",
    "        if    p_dist.loc[index, 'Ampl_12']>Max_Ampl_12 or  p_dist.loc[index, 'Ampl_12']<Min_Ampl_12 :\n",
    "              p_dist.loc[index, 'Out_Ampl_12']=1\n",
    "        else:  p_dist.loc[index, 'Out_Ampl_12']=0\n"
   ]
  },
  {
   "cell_type": "code",
   "execution_count": 31,
   "metadata": {},
   "outputs": [],
   "source": [
    "p_dist[\"Out_Ampl_13\"] = np.nan\n",
    "p_dist.sort_values('Ampl_13')\n",
    "Q1_Ampl_13 = p_dist.Ampl_13.quantile(0.25)\n",
    "Q3_Ampl_13 = p_dist.Ampl_13.quantile(0.75)\n",
    "IQR_Ampl_13 = Q3_Ampl_13 - Q1_Ampl_13\n",
    "Min_Ampl_13= Q1_Ampl_13-(1.5*IQR_Ampl_13)\n",
    "Max_Ampl_13= Q3_Ampl_13+(1.5*IQR_Ampl_13)\n",
    "#Conditions\n",
    "for index, row in p_dist.iterrows():\n",
    "        if    p_dist.loc[index, 'Ampl_13']>Max_Ampl_13 or  p_dist.loc[index, 'Ampl_13']<Min_Ampl_13 :\n",
    "              p_dist.loc[index, 'Out_Ampl_13']=1\n",
    "        else:  p_dist.loc[index, 'Out_Ampl_13']=0\n"
   ]
  },
  {
   "cell_type": "code",
   "execution_count": 32,
   "metadata": {},
   "outputs": [],
   "source": [
    "p_dist[\"Out_Ampl_14\"] = np.nan\n",
    "p_dist.sort_values('Ampl_14')\n",
    "Q1_Ampl_14 = p_dist.Ampl_14.quantile(0.25)\n",
    "Q3_Ampl_14 = p_dist.Ampl_14.quantile(0.75)\n",
    "IQR_Ampl_14 = Q3_Ampl_14 - Q1_Ampl_14\n",
    "Min_Ampl_14= Q1_Ampl_14-(1.5*IQR_Ampl_14)\n",
    "Max_Ampl_14= Q3_Ampl_14+(1.5*IQR_Ampl_14)\n",
    "#Conditions\n",
    "for index, row in p_dist.iterrows():\n",
    "        if    p_dist.loc[index, 'Ampl_14']>Max_Ampl_14 or  p_dist.loc[index, 'Ampl_14']<Min_Ampl_14 :\n",
    "              p_dist.loc[index, 'Out_Ampl_14']=1\n",
    "        else:  p_dist.loc[index, 'Out_Ampl_14']=0\n"
   ]
  },
  {
   "cell_type": "code",
   "execution_count": 33,
   "metadata": {},
   "outputs": [],
   "source": [
    "p_dist[\"Out_Ampl_15\"] = np.nan\n",
    "p_dist.sort_values('Ampl_15')\n",
    "Q1_Ampl_15 = p_dist.Ampl_15.quantile(0.25)\n",
    "Q3_Ampl_15 = p_dist.Ampl_15.quantile(0.75)\n",
    "IQR_Ampl_15 = Q3_Ampl_15 - Q1_Ampl_15\n",
    "Min_Ampl_15= Q1_Ampl_15-(1.5*IQR_Ampl_15)\n",
    "Max_Ampl_15= Q3_Ampl_15+(1.5*IQR_Ampl_15)\n",
    "#Conditions\n",
    "for index, row in p_dist.iterrows():\n",
    "        if    p_dist.loc[index, 'Ampl_15']>Max_Ampl_15 or  p_dist.loc[index, 'Ampl_15']<Min_Ampl_15 :\n",
    "              p_dist.loc[index, 'Out_Ampl_15']=1\n",
    "        else:  p_dist.loc[index, 'Out_Ampl_15']=0\n"
   ]
  },
  {
   "cell_type": "code",
   "execution_count": 34,
   "metadata": {},
   "outputs": [],
   "source": [
    "p_dist[\"Out_Dist_0\"] = np.nan\n",
    "p_dist.sort_values('Dist_0')\n",
    "Q1_Dist_0 = p_dist.Dist_0.quantile(0.25)\n",
    "Q3_Dist_0 = p_dist.Dist_0.quantile(0.75)\n",
    "IQR_Dist_0 = Q3_Dist_0 - Q1_Dist_0\n",
    "Min_Dist_0= Q1_Dist_0-(1.5*IQR_Dist_0)\n",
    "Max_Dist_0= Q3_Dist_0+(1.5*IQR_Dist_0)\n",
    "#Conditions\n",
    "for index, row in p_dist.iterrows():\n",
    "        if    p_dist.loc[index, 'Dist_0']>Max_Dist_0 or  p_dist.loc[index, 'Dist_0']<Min_Dist_0 :\n",
    "              p_dist.loc[index, 'Out_Dist_0']=1\n",
    "        else:  p_dist.loc[index, 'Out_Dist_0']=0\n"
   ]
  },
  {
   "cell_type": "code",
   "execution_count": 35,
   "metadata": {},
   "outputs": [],
   "source": [
    "p_dist[\"Out_Dist_1\"] = np.nan\n",
    "p_dist.sort_values('Dist_1')\n",
    "Q1_Dist_1 = p_dist.Dist_1.quantile(0.25)\n",
    "Q3_Dist_1 = p_dist.Dist_1.quantile(0.75)\n",
    "IQR_Dist_1 = Q3_Dist_1 - Q1_Dist_1\n",
    "Min_Dist_1= Q1_Dist_1-(1.5*IQR_Dist_1)\n",
    "Max_Dist_1= Q3_Dist_1+(1.5*IQR_Dist_1)\n",
    "#Conditions\n",
    "for index, row in p_dist.iterrows():\n",
    "        if    p_dist.loc[index, 'Dist_1']>Max_Dist_1 or  p_dist.loc[index, 'Dist_1']<Min_Dist_1 :\n",
    "              p_dist.loc[index, 'Out_Dist_1']=1\n",
    "        else:  p_dist.loc[index, 'Out_Dist_1']=0\n"
   ]
  },
  {
   "cell_type": "code",
   "execution_count": 36,
   "metadata": {},
   "outputs": [],
   "source": [
    "p_dist[\"Out_Dist_2\"] = np.nan\n",
    "p_dist.sort_values('Dist_2')\n",
    "Q1_Dist_2 = p_dist.Dist_2.quantile(0.25)\n",
    "Q3_Dist_2 = p_dist.Dist_2.quantile(0.75)\n",
    "IQR_Dist_2 = Q3_Dist_2 - Q1_Dist_2\n",
    "Min_Dist_2= Q1_Dist_2-(1.5*IQR_Dist_2)\n",
    "Max_Dist_2= Q3_Dist_2+(1.5*IQR_Dist_2)\n",
    "#Conditions\n",
    "for index, row in p_dist.iterrows():\n",
    "        if    p_dist.loc[index, 'Dist_2']>Max_Dist_2 or  p_dist.loc[index, 'Dist_2']<Min_Dist_2 :\n",
    "              p_dist.loc[index, 'Out_Dist_2']=1\n",
    "        else:  p_dist.loc[index, 'Out_Dist_2']=0\n"
   ]
  },
  {
   "cell_type": "code",
   "execution_count": 37,
   "metadata": {},
   "outputs": [],
   "source": [
    "p_dist[\"Out_Dist_3\"] = np.nan\n",
    "p_dist.sort_values('Dist_3')\n",
    "Q1_Dist_3 = p_dist.Dist_3.quantile(0.25)\n",
    "Q3_Dist_3 = p_dist.Dist_3.quantile(0.75)\n",
    "IQR_Dist_3 = Q3_Dist_3 - Q1_Dist_3\n",
    "Min_Dist_3= Q1_Dist_3-(1.5*IQR_Dist_3)\n",
    "Max_Dist_3= Q3_Dist_3+(1.5*IQR_Dist_3)\n",
    "#Conditions\n",
    "for index, row in p_dist.iterrows():\n",
    "        if    p_dist.loc[index, 'Dist_3']>Max_Dist_3 or  p_dist.loc[index, 'Dist_3']<Min_Dist_3 :\n",
    "              p_dist.loc[index, 'Out_Dist_3']=1\n",
    "        else:  p_dist.loc[index, 'Out_Dist_3']=0\n"
   ]
  },
  {
   "cell_type": "code",
   "execution_count": 38,
   "metadata": {},
   "outputs": [],
   "source": [
    "p_dist[\"Out_Dist_4\"] = np.nan\n",
    "p_dist.sort_values('Dist_4')\n",
    "Q1_Dist_4 = p_dist.Dist_4.quantile(0.25)\n",
    "Q3_Dist_4 = p_dist.Dist_4.quantile(0.75)\n",
    "IQR_Dist_4 = Q3_Dist_4 - Q1_Dist_4\n",
    "Min_Dist_4= Q1_Dist_4-(1.5*IQR_Dist_4)\n",
    "Max_Dist_4= Q3_Dist_4+(1.5*IQR_Dist_4)\n",
    "#Conditions\n",
    "for index, row in p_dist.iterrows():\n",
    "        if    p_dist.loc[index, 'Dist_4']>Max_Dist_4 or  p_dist.loc[index, 'Dist_4']<Min_Dist_4 :\n",
    "              p_dist.loc[index, 'Out_Dist_4']=1\n",
    "        else:  p_dist.loc[index, 'Out_Dist_4']=0\n"
   ]
  },
  {
   "cell_type": "code",
   "execution_count": 39,
   "metadata": {},
   "outputs": [],
   "source": [
    "p_dist[\"Out_Dist_5\"] = np.nan\n",
    "p_dist.sort_values('Dist_5')\n",
    "Q1_Dist_5 = p_dist.Dist_5.quantile(0.25)\n",
    "Q3_Dist_5 = p_dist.Dist_5.quantile(0.75)\n",
    "IQR_Dist_5 = Q3_Dist_5 - Q1_Dist_5\n",
    "Min_Dist_5= Q1_Dist_5-(1.5*IQR_Dist_5)\n",
    "Max_Dist_5= Q3_Dist_5+(1.5*IQR_Dist_5)\n",
    "#Conditions\n",
    "for index, row in p_dist.iterrows():\n",
    "        if    p_dist.loc[index, 'Dist_5']>Max_Dist_5 or  p_dist.loc[index, 'Dist_5']<Min_Dist_5 :\n",
    "              p_dist.loc[index, 'Out_Dist_5']=1\n",
    "        else:  p_dist.loc[index, 'Out_Dist_5']=0\n"
   ]
  },
  {
   "cell_type": "code",
   "execution_count": 40,
   "metadata": {},
   "outputs": [],
   "source": [
    "p_dist[\"Out_Dist_6\"] = np.nan\n",
    "p_dist.sort_values('Dist_6')\n",
    "Q1_Dist_6 = p_dist.Dist_6.quantile(0.25)\n",
    "Q3_Dist_6 = p_dist.Dist_6.quantile(0.75)\n",
    "IQR_Dist_6 = Q3_Dist_6 - Q1_Dist_6\n",
    "Min_Dist_6= Q1_Dist_6-(1.5*IQR_Dist_6)\n",
    "Max_Dist_6= Q3_Dist_6+(1.5*IQR_Dist_6)\n",
    "#Conditions\n",
    "for index, row in p_dist.iterrows():\n",
    "        if    p_dist.loc[index, 'Dist_6']>Max_Dist_6 or  p_dist.loc[index, 'Dist_6']<Min_Dist_6 :\n",
    "              p_dist.loc[index, 'Out_Dist_6']=1\n",
    "        else:  p_dist.loc[index, 'Out_Dist_6']=0\n"
   ]
  },
  {
   "cell_type": "code",
   "execution_count": 41,
   "metadata": {},
   "outputs": [],
   "source": [
    "p_dist[\"Out_Dist_7\"] = np.nan\n",
    "p_dist.sort_values('Dist_7')\n",
    "Q1_Dist_7 = p_dist.Dist_7.quantile(0.25)\n",
    "Q3_Dist_7 = p_dist.Dist_7.quantile(0.75)\n",
    "IQR_Dist_7 = Q3_Dist_7 - Q1_Dist_7\n",
    "Min_Dist_7= Q1_Dist_7-(1.5*IQR_Dist_7)\n",
    "Max_Dist_7= Q3_Dist_7+(1.5*IQR_Dist_7)\n",
    "#Conditions\n",
    "for index, row in p_dist.iterrows():\n",
    "        if    p_dist.loc[index, 'Dist_7']>Max_Dist_7 or  p_dist.loc[index, 'Dist_7']<Min_Dist_7 :\n",
    "              p_dist.loc[index, 'Out_Dist_7']=1\n",
    "        else:  p_dist.loc[index, 'Out_Dist_7']=0\n"
   ]
  },
  {
   "cell_type": "code",
   "execution_count": 42,
   "metadata": {},
   "outputs": [],
   "source": [
    "p_dist[\"Out_Dist_8\"] = np.nan\n",
    "p_dist.sort_values('Dist_8')\n",
    "Q1_Dist_8 = p_dist.Dist_8.quantile(0.25)\n",
    "Q3_Dist_8 = p_dist.Dist_8.quantile(0.75)\n",
    "IQR_Dist_8 = Q3_Dist_8 - Q1_Dist_8\n",
    "Min_Dist_8= Q1_Dist_8-(1.5*IQR_Dist_8)\n",
    "Max_Dist_8= Q3_Dist_8+(1.5*IQR_Dist_8)\n",
    "#Conditions\n",
    "for index, row in p_dist.iterrows():\n",
    "        if    p_dist.loc[index, 'Dist_8']>Max_Dist_8 or  p_dist.loc[index, 'Dist_8']<Min_Dist_8 :\n",
    "              p_dist.loc[index, 'Out_Dist_8']=1\n",
    "        else:  p_dist.loc[index, 'Out_Dist_8']=0\n"
   ]
  },
  {
   "cell_type": "code",
   "execution_count": 43,
   "metadata": {},
   "outputs": [],
   "source": [
    "p_dist[\"Out_Dist_9\"] = np.nan\n",
    "p_dist.sort_values('Dist_9')\n",
    "Q1_Dist_9 = p_dist.Dist_9.quantile(0.25)\n",
    "Q3_Dist_9 = p_dist.Dist_9.quantile(0.75)\n",
    "IQR_Dist_9 = Q3_Dist_9 - Q1_Dist_9\n",
    "Min_Dist_9= Q1_Dist_9-(1.5*IQR_Dist_9)\n",
    "Max_Dist_9= Q3_Dist_9+(1.5*IQR_Dist_9)\n",
    "#Conditions\n",
    "for index, row in p_dist.iterrows():\n",
    "        if    p_dist.loc[index, 'Dist_9']>Max_Dist_9 or  p_dist.loc[index, 'Dist_9']<Min_Dist_9 :\n",
    "              p_dist.loc[index, 'Out_Dist_9']=1\n",
    "        else:  p_dist.loc[index, 'Out_Dist_9']=0\n"
   ]
  },
  {
   "cell_type": "code",
   "execution_count": 44,
   "metadata": {},
   "outputs": [],
   "source": [
    "p_dist[\"Out_Dist_10\"] = np.nan\n",
    "p_dist.sort_values('Dist_10')\n",
    "Q1_Dist_10 = p_dist.Dist_10.quantile(0.25)\n",
    "Q3_Dist_10 = p_dist.Dist_10.quantile(0.75)\n",
    "IQR_Dist_10 = Q3_Dist_10 - Q1_Dist_10\n",
    "Min_Dist_10= Q1_Dist_10-(1.5*IQR_Dist_10)\n",
    "Max_Dist_10= Q3_Dist_10+(1.5*IQR_Dist_10)\n",
    "#Conditions\n",
    "for index, row in p_dist.iterrows():\n",
    "        if    p_dist.loc[index, 'Dist_10']>Max_Dist_10 or  p_dist.loc[index, 'Dist_10']<Min_Dist_10 :\n",
    "              p_dist.loc[index, 'Out_Dist_10']=1\n",
    "        else:  p_dist.loc[index, 'Out_Dist_10']=0\n"
   ]
  },
  {
   "cell_type": "code",
   "execution_count": 45,
   "metadata": {},
   "outputs": [],
   "source": [
    "p_dist[\"Out_Dist_11\"] = np.nan\n",
    "p_dist.sort_values('Dist_11')\n",
    "Q1_Dist_11 = p_dist.Dist_11.quantile(0.25)\n",
    "Q3_Dist_11 = p_dist.Dist_11.quantile(0.75)\n",
    "IQR_Dist_11 = Q3_Dist_11 - Q1_Dist_11\n",
    "Min_Dist_11= Q1_Dist_11-(1.5*IQR_Dist_11)\n",
    "Max_Dist_11= Q3_Dist_11+(1.5*IQR_Dist_11)\n",
    "#Conditions\n",
    "for index, row in p_dist.iterrows():\n",
    "        if    p_dist.loc[index, 'Dist_11']>Max_Dist_11 or  p_dist.loc[index, 'Dist_11']<Min_Dist_11 :\n",
    "              p_dist.loc[index, 'Out_Dist_11']=1\n",
    "        else:  p_dist.loc[index, 'Out_Dist_11']=0\n"
   ]
  },
  {
   "cell_type": "code",
   "execution_count": 46,
   "metadata": {},
   "outputs": [],
   "source": [
    "p_dist[\"Out_Dist_12\"] = np.nan\n",
    "p_dist.sort_values('Dist_12')\n",
    "Q1_Dist_12 = p_dist.Dist_12.quantile(0.25)\n",
    "Q3_Dist_12 = p_dist.Dist_12.quantile(0.75)\n",
    "IQR_Dist_12 = Q3_Dist_12 - Q1_Dist_12\n",
    "Min_Dist_12= Q1_Dist_12-(1.5*IQR_Dist_12)\n",
    "Max_Dist_12= Q3_Dist_12+(1.5*IQR_Dist_12)\n",
    "#Conditions\n",
    "for index, row in p_dist.iterrows():\n",
    "        if    p_dist.loc[index, 'Dist_12']>Max_Dist_12 or  p_dist.loc[index, 'Dist_12']<Min_Dist_12 :\n",
    "              p_dist.loc[index, 'Out_Dist_12']=1\n",
    "        else:  p_dist.loc[index, 'Out_Dist_12']=0\n"
   ]
  },
  {
   "cell_type": "code",
   "execution_count": 47,
   "metadata": {},
   "outputs": [],
   "source": [
    "p_dist[\"Out_Dist_13\"] = np.nan\n",
    "p_dist.sort_values('Dist_13')\n",
    "Q1_Dist_13 = p_dist.Dist_13.quantile(0.25)\n",
    "Q3_Dist_13 = p_dist.Dist_13.quantile(0.75)\n",
    "IQR_Dist_13 = Q3_Dist_13 - Q1_Dist_13\n",
    "Min_Dist_13= Q1_Dist_13-(1.5*IQR_Dist_13)\n",
    "Max_Dist_13= Q3_Dist_13+(1.5*IQR_Dist_13)\n",
    "#Conditions\n",
    "for index, row in p_dist.iterrows():\n",
    "        if    p_dist.loc[index, 'Dist_13']>Max_Dist_13 or  p_dist.loc[index, 'Dist_13']<Min_Dist_13 :\n",
    "              p_dist.loc[index, 'Out_Dist_13']=1\n",
    "        else:  p_dist.loc[index, 'Out_Dist_13']=0\n"
   ]
  },
  {
   "cell_type": "code",
   "execution_count": 48,
   "metadata": {},
   "outputs": [],
   "source": [
    "p_dist[\"Out_Dist_14\"] = np.nan\n",
    "p_dist.sort_values('Dist_14')\n",
    "Q1_Dist_14 = p_dist.Dist_14.quantile(0.25)\n",
    "Q3_Dist_14 = p_dist.Dist_14.quantile(0.75)\n",
    "IQR_Dist_14 = Q3_Dist_14 - Q1_Dist_14\n",
    "Min_Dist_14= Q1_Dist_14-(1.5*IQR_Dist_14)\n",
    "Max_Dist_14= Q3_Dist_14+(1.5*IQR_Dist_14)\n",
    "#Conditions\n",
    "for index, row in p_dist.iterrows():\n",
    "        if    p_dist.loc[index, 'Dist_14']>Max_Dist_14 or  p_dist.loc[index, 'Dist_14']<Min_Dist_14 :\n",
    "              p_dist.loc[index, 'Out_Dist_14']=1\n",
    "        else:  p_dist.loc[index, 'Out_Dist_14']=0\n"
   ]
  },
  {
   "cell_type": "code",
   "execution_count": 49,
   "metadata": {},
   "outputs": [],
   "source": [
    "p_dist[\"Out_Dist_15\"] = np.nan\n",
    "p_dist.sort_values('Dist_15')\n",
    "Q1_Dist_15 = p_dist.Dist_15.quantile(0.25)\n",
    "Q3_Dist_15 = p_dist.Dist_15.quantile(0.75)\n",
    "IQR_Dist_15 = Q3_Dist_15 - Q1_Dist_15\n",
    "Min_Dist_15= Q1_Dist_15-(1.5*IQR_Dist_15)\n",
    "Max_Dist_15= Q3_Dist_15+(1.5*IQR_Dist_15)\n",
    "#Conditions\n",
    "for index, row in p_dist.iterrows():\n",
    "        if    p_dist.loc[index, 'Dist_15']>Max_Dist_15 or  p_dist.loc[index, 'Dist_15']<Min_Dist_15 :\n",
    "              p_dist.loc[index, 'Out_Dist_15']=1\n",
    "        else:  p_dist.loc[index, 'Out_Dist_15']=0\n"
   ]
  },
  {
   "cell_type": "code",
   "execution_count": 50,
   "metadata": {},
   "outputs": [],
   "source": [
    "p_dist[\"Outliers\"] = np.nan\n",
    "for index, row in p_dist.iterrows():\n",
    "    if  p_dist.loc[index, 'Out_Dist_0']==1 or  p_dist.loc[index, 'Out_Dist_1' ]==1 or p_dist.loc[index, 'Out_Dist_2']==1 or p_dist.loc[index, 'Out_Dist_3']==1 or  p_dist.loc[index, 'Out_Dist_4']==1 or p_dist.loc[index, 'Out_Dist_5']==1 or p_dist.loc[index, 'Out_Dist_6']==1 or p_dist.loc[index, 'Out_Dist_7']==1 or p_dist.loc[index, 'Out_Dist_8']==1 or  p_dist.loc[index, 'Out_Dist_9']==1 or p_dist.loc[index, 'Out_Dist_10']==1 or p_dist.loc[index, 'Out_Dist_11']==1 or p_dist.loc[index, 'Out_Dist_12']==1 or p_dist.loc[index, 'Out_Dist_13']==1 or p_dist.loc[index, 'Out_Dist_14']==1 or p_dist.loc[index, 'Out_Dist_15']==1:\n",
    "        p_dist.loc[index, 'Outliers']=1\n",
    "    else: p_dist.loc[index, 'Outliers']=0\n"
   ]
  },
  {
   "cell_type": "code",
   "execution_count": 51,
   "metadata": {},
   "outputs": [],
   "source": [
    "#Add column for confusion matrix\n",
    "p_dist[\"Mat_conf\"] = np.nan"
   ]
  },
  {
   "cell_type": "code",
   "execution_count": 52,
   "metadata": {},
   "outputs": [
    {
     "name": "stdout",
     "output_type": "stream",
     "text": [
      "Observation\n",
      "0     831\n",
      "1    3643\n",
      "dtype: int64\n"
     ]
    }
   ],
   "source": [
    "# class distribution for confusion matrix\n",
    "print(p_dist.groupby('Observation').size())"
   ]
  },
  {
   "cell_type": "code",
   "execution_count": 53,
   "metadata": {},
   "outputs": [
    {
     "name": "stdout",
     "output_type": "stream",
     "text": [
      "Outliers\n",
      "0.0     826\n",
      "1.0    3648\n",
      "dtype: int64\n"
     ]
    }
   ],
   "source": [
    "# class distribution for confusion matrix\n",
    "print(p_dist.groupby('Outliers').size())"
   ]
  },
  {
   "cell_type": "code",
   "execution_count": 54,
   "metadata": {},
   "outputs": [],
   "source": [
    "#Condition to fill confusion matrix\n",
    "for index, row in p_dist.iterrows():\n",
    "    if  p_dist.loc[index, 'Observation']==1 and p_dist.loc[index, 'Outliers']==1  :\n",
    "        p_dist.loc[index, 'Mat_conf']='TP'\n",
    "    elif  p_dist.loc[index, 'Observation']==1 and p_dist.loc[index, 'Outliers']==0  :\n",
    "        p_dist.loc[index, 'Mat_conf']='FN'\n",
    "    elif  p_dist.loc[index, 'Observation']==0 and p_dist.loc[index, 'Outliers']==1  :\n",
    "        p_dist.loc[index, 'Mat_conf']='FP'\n",
    "    elif p_dist.loc[index, 'Observation']==0 and p_dist.loc[index, 'Outliers']==0:\n",
    "        p_dist.loc[index, 'Mat_conf']='TN'"
   ]
  },
  {
   "cell_type": "code",
   "execution_count": 55,
   "metadata": {},
   "outputs": [
    {
     "name": "stdout",
     "output_type": "stream",
     "text": [
      "<class 'pandas.core.frame.DataFrame'>\n",
      "Int64Index: 4474 entries, 0 to 4473\n",
      "Data columns (total 70 columns):\n",
      "Time             4474 non-null float64\n",
      "Ampl_0           4472 non-null float64\n",
      "Ampl_1           4473 non-null float64\n",
      "Ampl_2           4473 non-null float64\n",
      "Ampl_3           4473 non-null float64\n",
      "Ampl_4           4474 non-null float64\n",
      "Ampl_5           4474 non-null float64\n",
      "Ampl_6           4473 non-null float64\n",
      "Ampl_7           4474 non-null float64\n",
      "Ampl_8           4474 non-null float64\n",
      "Ampl_9           4474 non-null float64\n",
      "Ampl_10          4474 non-null float64\n",
      "Ampl_11          4474 non-null float64\n",
      "Ampl_12          4474 non-null float64\n",
      "Ampl_13          4471 non-null float64\n",
      "Ampl_14          4472 non-null float64\n",
      "Ampl_15          4474 non-null float64\n",
      "Dist_0           4472 non-null float64\n",
      "Dist_1           4473 non-null float64\n",
      "Dist_2           4473 non-null float64\n",
      "Dist_3           4473 non-null float64\n",
      "Dist_4           4474 non-null float64\n",
      "Dist_5           4474 non-null float64\n",
      "Dist_6           4473 non-null float64\n",
      "Dist_7           4474 non-null float64\n",
      "Dist_8           4474 non-null float64\n",
      "Dist_9           4474 non-null float64\n",
      "Dist_10          4474 non-null float64\n",
      "Dist_11          4474 non-null float64\n",
      "Dist_12          4474 non-null float64\n",
      "Dist_13          4471 non-null float64\n",
      "Dist_14          4472 non-null float64\n",
      "Dist_15          4474 non-null float64\n",
      "Heure            4474 non-null object\n",
      "Observation      4474 non-null int64\n",
      "Observation_d    4474 non-null int64\n",
      "Out_a0           4474 non-null float64\n",
      "Out_a1           4474 non-null float64\n",
      "Out_a2           4474 non-null float64\n",
      "Out_a3           4474 non-null float64\n",
      "Out_a4           4474 non-null float64\n",
      "Out_a5           4474 non-null float64\n",
      "Out_a6           4474 non-null float64\n",
      "Out_a7           4474 non-null float64\n",
      "Out_a8           4474 non-null float64\n",
      "Out_a9           4474 non-null float64\n",
      "Out_Ampl_10      4474 non-null float64\n",
      "Out_Ampl_11      4474 non-null float64\n",
      "Out_Ampl_12      4474 non-null float64\n",
      "Out_Ampl_13      4474 non-null float64\n",
      "Out_Ampl_14      4474 non-null float64\n",
      "Out_Ampl_15      4474 non-null float64\n",
      "Out_Dist_0       4474 non-null float64\n",
      "Out_Dist_1       4474 non-null float64\n",
      "Out_Dist_2       4474 non-null float64\n",
      "Out_Dist_3       4474 non-null float64\n",
      "Out_Dist_4       4474 non-null float64\n",
      "Out_Dist_5       4474 non-null float64\n",
      "Out_Dist_6       4474 non-null float64\n",
      "Out_Dist_7       4474 non-null float64\n",
      "Out_Dist_8       4474 non-null float64\n",
      "Out_Dist_9       4474 non-null float64\n",
      "Out_Dist_10      4474 non-null float64\n",
      "Out_Dist_11      4474 non-null float64\n",
      "Out_Dist_12      4474 non-null float64\n",
      "Out_Dist_13      4474 non-null float64\n",
      "Out_Dist_14      4474 non-null float64\n",
      "Out_Dist_15      4474 non-null float64\n",
      "Outliers         4474 non-null float64\n",
      "Mat_conf         4474 non-null object\n",
      "dtypes: float64(66), int64(2), object(2)\n",
      "memory usage: 2.6+ MB\n"
     ]
    }
   ],
   "source": [
    "p_dist.info()"
   ]
  },
  {
   "cell_type": "code",
   "execution_count": 56,
   "metadata": {},
   "outputs": [
    {
     "name": "stdout",
     "output_type": "stream",
     "text": [
      "Mat_conf\n",
      "FN     550\n",
      "FP     555\n",
      "TN     276\n",
      "TP    3093\n",
      "dtype: int64\n"
     ]
    }
   ],
   "source": [
    "# class distribution for confusion matrix\n",
    "print(p_dist.groupby('Mat_conf').size())"
   ]
  },
  {
   "cell_type": "code",
   "execution_count": 57,
   "metadata": {},
   "outputs": [
    {
     "name": "stdout",
     "output_type": "stream",
     "text": [
      "TPR= 0.8490255284106506\n",
      "TNR= 0.33212996389891697\n",
      "PPV= 0.8478618421052632\n",
      "NPV= 0.3341404358353511\n",
      "FPR= 0.6678700361010831\n",
      "FNR= 0.15097447158934943\n",
      "FDR= 0.15213815789473684\n",
      "ACC= 0.7530174340634779\n"
     ]
    }
   ],
   "source": [
    "FN =   550\n",
    "FP  =  555\n",
    "TN   =  276\n",
    "TP   = 3093\n",
    "# Sensitivity, hit rate, recall, or true positive rate\n",
    "TPR = TP/(TP+FN)\n",
    "print('TPR=', TPR)\n",
    "# Specificity or true negative rate\n",
    "TNR = TN/(TN+FP) \n",
    "print('TNR=', TNR)\n",
    "# Precision or positive predictive value\n",
    "PPV = TP/(TP+FP)\n",
    "print('PPV=', PPV)\n",
    "# Negative predictive value\n",
    "NPV = TN/(TN+FN)\n",
    "print('NPV=', NPV)\n",
    "# Fall out or false positive rate\n",
    "FPR = FP/(FP+TN)\n",
    "print('FPR=', FPR)\n",
    "# False negative rate\n",
    "FNR = FN/(TP+FN)\n",
    "print('FNR=', FNR)\n",
    "# False discovery rate\n",
    "FDR = FP/(TP+FP)\n",
    "print('FDR=', FDR)\n",
    "# Overall accuracy\n",
    "ACC = (TP+TN)/(TP+FP+FN+TN)\n",
    "print('ACC=', ACC)"
   ]
  },
  {
   "cell_type": "code",
   "execution_count": null,
   "metadata": {},
   "outputs": [],
   "source": []
  }
 ],
 "metadata": {
  "kernelspec": {
   "display_name": "Python 3",
   "language": "python",
   "name": "python3"
  },
  "language_info": {
   "codemirror_mode": {
    "name": "ipython",
    "version": 3
   },
   "file_extension": ".py",
   "mimetype": "text/x-python",
   "name": "python",
   "nbconvert_exporter": "python",
   "pygments_lexer": "ipython3",
   "version": "3.7.4"
  }
 },
 "nbformat": 4,
 "nbformat_minor": 2
}
